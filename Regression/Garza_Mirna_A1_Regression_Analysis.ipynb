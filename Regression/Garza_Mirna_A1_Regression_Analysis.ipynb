{
 "cells": [
  {
   "cell_type": "markdown",
   "id": "b6a05e2f",
   "metadata": {},
   "source": [
    "<h1>A1 Regression Model Development</h1>\n",
    "\n",
    "<hr style=\"height:.9px;border:none;color:#333;background-color:#333;\" />\n",
    "\n",
    "## 1. Preparing Data\n",
    "To start the assignment, I imported the packages I was going to use, as well as naming and reading the birthweight_low file.\n",
    "After this, I stared analyzing the data and looked for any missing values. As there were some missing values, I did a histogram to decide whether to use the median, mode or mean. Following this step, I used the .fillna() funciton to fill the missing values with the median or mean. Finally I dropped the columns in the data of \"omaps\" and \"fmaps\" since this categories are used after the baby is born, and it's not an indicator that can help us predict the baby weight."
   ]
  },
  {
   "cell_type": "code",
   "execution_count": null,
   "id": "745e41c2",
   "metadata": {
    "scrolled": true
   },
   "outputs": [],
   "source": [
    "# importing libraries\n",
    "import pandas as pd\n",
    "import matplotlib.pyplot as plt \n",
    "import seaborn as sns \n",
    "import numpy as np\n",
    "import statsmodels.formula.api as smf\n",
    "from sklearn.linear_model import LinearRegression\n",
    "from sklearn.model_selection import train_test_split\n",
    "from sklearn.linear_model import Lasso\n",
    "from sklearn.linear_model import ARDRegression\n",
    "from sklearn.neighbors import KNeighborsRegressor\n",
    "from sklearn.preprocessing import StandardScaler\n",
    "\n",
    "# setting pandas print options\n",
    "pd.set_option('display.max_rows', 500)\n",
    "pd.set_option('display.max_columns', 500)\n",
    "pd.set_option('display.width', 1000)\n",
    "\n",
    "\n",
    "file = \"./birthweight_low.xlsx\"\n",
    "\n",
    "# reading file in Pyhton\n",
    "birthweight = pd.read_excel(io = file,\n",
    "                           header = 0,\n",
    "                           sheet_name = 0)\n",
    "\n",
    "birthweight.head(n = 5)"
   ]
  },
  {
   "cell_type": "code",
   "execution_count": null,
   "id": "e2177a47",
   "metadata": {},
   "outputs": [],
   "source": [
    "birthweight.shape"
   ]
  },
  {
   "cell_type": "code",
   "execution_count": null,
   "id": "afbee0e8",
   "metadata": {},
   "outputs": [],
   "source": [
    "# looking for missing values\n",
    "birthweight.isnull().sum(axis = 0)"
   ]
  },
  {
   "cell_type": "code",
   "execution_count": null,
   "id": "b8e9adbc",
   "metadata": {},
   "outputs": [],
   "source": [
    "# histogram to check features for the variables with missing values\n",
    "sns.histplot(data   = birthweight,\n",
    "             x      = 'meduc',\n",
    "             kde    = True)\n",
    "\n",
    "plt.title(label   = \"Original Distribution of Mother's Education\")\n",
    "plt.xlabel(xlabel = \"Meduc\")\n",
    "plt.ylabel(ylabel = \"Count\")\n",
    "\n",
    "plt.show()\n",
    "\n",
    "# histogram to check features for the variables with missing values\n",
    "sns.histplot(data   = birthweight,\n",
    "             x      = 'npvis',\n",
    "             kde    = True)\n",
    "\n",
    "plt.title(label   = \"Original Distribution of Prenatal Visits\")\n",
    "plt.xlabel(xlabel = \"Npvis\")\n",
    "plt.ylabel(ylabel = \"Count\")\n",
    "\n",
    "plt.show()\n",
    "\n",
    "# histogram to check features for the variables with missing values\n",
    "sns.histplot(data   = birthweight,\n",
    "             x      = 'feduc',\n",
    "             kde    = True)\n",
    "\n",
    "plt.title(label   = \"Original Distribution of Father's Education\")\n",
    "plt.xlabel(xlabel = \"Feduc\")\n",
    "plt.ylabel(ylabel = \"Count\")\n",
    "\n",
    "plt.show()"
   ]
  },
  {
   "cell_type": "code",
   "execution_count": null,
   "id": "08aadfcc",
   "metadata": {},
   "outputs": [],
   "source": [
    "# filling the missing values with the mean and median\n",
    "meduc_mean=birthweight['meduc'].min()\n",
    "birthweight['meduc'].fillna(value=meduc_mean,\n",
    "                                 inplace=True)\n",
    "\n",
    "npvis_median=birthweight['npvis'].median()\n",
    "birthweight['npvis'].fillna(value=2,\n",
    "                                 inplace=True)\n",
    "\n",
    "feduc_mean=birthweight['feduc'].mean()\n",
    "birthweight['feduc'].fillna(value=12,\n",
    "                                 inplace=True)\n",
    "birthweight.isnull().any()"
   ]
  },
  {
   "cell_type": "code",
   "execution_count": null,
   "id": "51e4edbd",
   "metadata": {},
   "outputs": [],
   "source": [
    "# dropping variables that are not valuable for prediction\n",
    "birthweight = birthweight.drop('omaps', axis = 1)\n",
    "birthweight = birthweight.drop('fmaps', axis = 1)"
   ]
  },
  {
   "cell_type": "markdown",
   "id": "708ac438",
   "metadata": {},
   "source": [
    "## 2. Analyzing Data\n",
    "After having the data correctly set, I started analyzing the y variable and checking for skewness to see if it is better to use log in each. \n",
    "Another way to analyze the data was doing boxplots for each of the variables and investigating the \"normal\" least birth weight a baby should have when being born. I placed a line in the boxplots to see which variables could be placed in categories, and started feature engineering."
   ]
  },
  {
   "cell_type": "code",
   "execution_count": null,
   "id": "b6e52310",
   "metadata": {},
   "outputs": [],
   "source": [
    "# developing a histogram to analyze the distribution of birthweight and checking for skewness\n",
    "sns.histplot(data   = birthweight,\n",
    "             x      = 'bwght',\n",
    "             kde    = True)\n",
    "\n",
    "plt.title(label   = \"Original Distribution of Birthweight\")\n",
    "plt.xlabel(xlabel = \"Birthweight\") \n",
    "plt.ylabel(ylabel = \"Count\")\n",
    "\n",
    "plt.show()\n",
    "\n",
    "# log transforming bwght\n",
    "birthweight['log_bwght'] = np.log(birthweight['bwght'])\n",
    "\n",
    "# log transforming feduc\n",
    "birthweight['log_feduc'] = np.log(birthweight['feduc'])\n",
    "\n",
    "# developing a histogram\n",
    "sns.histplot(data   = birthweight,\n",
    "             x      = 'log_bwght',\n",
    "             kde    = True)\n",
    "\n",
    "plt.title(label   = \"Logarithmic Distribution of Birthweight\")\n",
    "plt.xlabel(xlabel = \"Birthweight\") \n",
    "plt.ylabel(ylabel = \"Count\")\n",
    "\n",
    "plt.show()"
   ]
  },
  {
   "cell_type": "code",
   "execution_count": null,
   "id": "b1f375a9",
   "metadata": {},
   "outputs": [],
   "source": [
    "# creating a loop to see the boxplots of each variable\n",
    "columns = ['mage', 'meduc','monpre', 'npvis','fage','feduc','cigs','drink',\n",
    "        'male', 'mwhte','mblck','moth','fwhte','fblck','foth']\n",
    "\n",
    "for col in columns: \n",
    "    fig, ax = plt.subplots(figsize =(13, 8))\n",
    "    sns.boxplot(x    = col,\n",
    "                y    = 'bwght',\n",
    "                data = birthweight)\n",
    "\n",
    "    plt.title(label   = 'Boxplot with Interval Data')\n",
    "    plt.xlabel(xlabel = col)\n",
    "    plt.ylabel(ylabel = 'birth weight')\n",
    "   \n",
    "    # line on the x axis to see the minimum weight\n",
    "    plt.axhline(y = 2500, color = \"black\", linestyle = '--')\n",
    "    plt.show()"
   ]
  },
  {
   "cell_type": "markdown",
   "id": "089a7fe2",
   "metadata": {},
   "source": [
    "## 3. Feature Engineering\n",
    "In the next lines of codes, I did categories based on the data, for example I divided the feature \"drink\" because we can see in the boxplot the average drink per day which can affect the weight below the line. I used the same reasoning for average cigarettes per day as well as for the father education.\n",
    "I created a column to multiply the mother age with the average cigarettes and the average drink per day because this can directly affect the baby's weight. I started doing the OLS analysis to see which variables could affect more the R squared and the p values."
   ]
  },
  {
   "cell_type": "code",
   "execution_count": null,
   "id": "cf9be204",
   "metadata": {},
   "outputs": [],
   "source": [
    "# creating new categories for some of the expalantory variables\n",
    "birthweight ['drink_mod'] = 0\n",
    "birthweight['cigs_mod'] = 0\n",
    "birthweight['log_feduc_mod'] = 0 \n",
    "\n",
    "for index, col in birthweight.iterrows():\n",
    "    if birthweight.loc[index,'drink']>=9:\n",
    "        birthweight.loc[index,'drink_mod']=9\n",
    "    elif birthweight.loc[index,'drink']<10:\n",
    "        birthweight.loc[index,'drink_mod'] = birthweight.loc[index,'drink']\n",
    "    else:\n",
    "        print('error')\n",
    "    if birthweight.loc[index,'cigs']>=21:\n",
    "        birthweight.loc[index,'cigs_mod']=22\n",
    "    elif birthweight.loc[index,'cigs']<21:\n",
    "        birthweight.loc[index,'cigs_mod'] = birthweight.loc[index, 'cigs']\n",
    "    else:\n",
    "        print('error')\n",
    "        \n",
    "    if birthweight.loc[index,'log_feduc'] < 1:\n",
    "        birthweight.loc[index,'log_feduc_mod']=2\n",
    "    elif birthweight.loc[index,'log_feduc']> 1:\n",
    "        birthweight.loc[index,'log_feduc_mod'] = birthweight.loc[index, 'log_feduc']\n",
    "    else:\n",
    "        print('error')\n",
    "\n",
    "birthweight['mage:cigs']  = birthweight['mage'] * birthweight['cigs_mod']\n",
    "birthweight['drink:mage'] = birthweight['drink'] * birthweight['drink_mod']\n",
    "birthweight['cigs:fwhte'] = birthweight['cigs_mod'] * birthweight['fwhte']"
   ]
  },
  {
   "cell_type": "code",
   "execution_count": null,
   "id": "1ee7c52b",
   "metadata": {},
   "outputs": [],
   "source": [
    "# log transforming variables\n",
    "birthweight['log_monpre'] = np.log(birthweight['monpre'])\n",
    "birthweight['log_npvis'] = np.log(birthweight['npvis'])\n",
    "birthweight['log_fage'] = np.log(birthweight['fage'])\n"
   ]
  },
  {
   "cell_type": "code",
   "execution_count": null,
   "id": "211097e6",
   "metadata": {},
   "outputs": [],
   "source": [
    "# checking the correlation with bwght\n",
    "birth_corr = birthweight.corr()\n",
    "birth_corr.loc[['bwght','mage','meduc','monpre', 'npvis', 'fage', 'feduc','cigs',\n",
    "                'drink','male', 'mwhte','mblck', 'fblck'] , \n",
    "               ['bwght','mage','meduc','monpre', 'npvis', 'fage', 'feduc','cigs',\n",
    "                'drink','male', 'mwhte','mblck', 'fblck']].abs()\n"
   ]
  },
  {
   "cell_type": "markdown",
   "id": "3976ad5e",
   "metadata": {},
   "source": [
    "## 4. Linear Modeling"
   ]
  },
  {
   "cell_type": "code",
   "execution_count": null,
   "id": "8ab958df",
   "metadata": {},
   "outputs": [],
   "source": [
    "# preparing explanatory variable \n",
    "birthweight_data  = birthweight.drop(['bwght','log_bwght'],axis = 1)\n",
    "\n",
    "\n",
    "# preparing response variables\n",
    "birthweight_target = birthweight.loc[ : , 'bwght']\n",
    "log_birthweight_target = birthweight.loc[ : , 'log_bwght']\n",
    "\n",
    "# preparing training and testing sets\n",
    "x_train, x_test, y_train, y_test = train_test_split(\n",
    "            birthweight_data,\n",
    "            birthweight_target,\n",
    "            test_size = 0.25,\n",
    "            random_state = 219)\n",
    "print(f\"\"\"\n",
    "Training Data\n",
    "-------------\n",
    "X-side: {x_train.shape}\n",
    "y-side: {y_train.shape}\n",
    "\n",
    "\n",
    "Testing Data\n",
    "------------\n",
    "X-side: {x_test.shape}\n",
    "y-side: {y_test.shape}\n",
    "\"\"\")"
   ]
  },
  {
   "cell_type": "code",
   "execution_count": null,
   "id": "4ea14eb3",
   "metadata": {},
   "outputs": [],
   "source": [
    "# merging X_train and y_train for the OLS statsmodels\n",
    "\n",
    "birthweight_train = pd.concat([x_train, y_train], axis = 1)\n",
    "\n",
    "lm_best = smf.ols(formula = \"\"\" bwght ~ log_feduc_mod +\n",
    "                                        drink_mod +                                       \n",
    "                                        drink:mage+\n",
    "                                        mage:cigs\n",
    "                                                \"\"\",\n",
    "                    data = birthweight_train)\n",
    "\n",
    "results = lm_best.fit()\n",
    "print(results.summary())\n"
   ]
  },
  {
   "cell_type": "markdown",
   "id": "87941860",
   "metadata": {},
   "source": [
    "### 4.1 Ordinary Least Squares Regression"
   ]
  },
  {
   "cell_type": "code",
   "execution_count": null,
   "id": "5a25d847",
   "metadata": {},
   "outputs": [],
   "source": [
    "# defining variables for x and y in the train and test sets\n",
    "x = birthweight.loc[: , ['cigs_mod', 'drink','male','fage','mwhte','log_monpre']]\n",
    "y = birthweight.loc[: , 'bwght']\n",
    "\n",
    "\n",
    "#split into train and test set\n",
    "x_train_OLS, x_test_OLS, y_train_OLS, y_test_OLS = train_test_split(x,y,test_size = 0.25, random_state =219)\n",
    "\n",
    "#split into train and test set\n",
    "x_train_full, x_test_full, y_train_full, y_test_full = train_test_split(birthweight_data,\n",
    "                                        birthweight_target,test_size = 0.25, random_state =219)\n",
    "\n",
    "\n",
    "# instantiating a model object\n",
    "lr = LinearRegression()\n",
    "\n",
    "# fitting to the training data\n",
    "lr_fit = lr.fit(x_train_OLS, y_train_OLS)\n",
    "\n",
    "#defining variables\n",
    "lr_train_score = lr.score(x_train_OLS, y_train_OLS).round(4)\n",
    "lr_test_score = lr.score(x_test_OLS, y_test_OLS).round(4)\n",
    "\n",
    "# predicting on new data\n",
    "lr_pred = lr_fit.predict(x_test_OLS)\n",
    "\n",
    "# scoring the results\n",
    "print('OLS Training Score :', lr.score(x_train_OLS, y_train_OLS).round(4)) \n",
    "print('OLS Testing Score  :',  lr.score(x_test_OLS, y_test).round(4)) \n",
    "\n",
    "\n",
    "# displaying the gap between training and testing\n",
    "lr_test_gap = abs(lr_train_score - lr_test_score).round(4)"
   ]
  },
  {
   "cell_type": "markdown",
   "id": "c00e9952",
   "metadata": {},
   "source": [
    "### 4.2 Lasso Regression Model"
   ]
  },
  {
   "cell_type": "code",
   "execution_count": null,
   "id": "68fc6504",
   "metadata": {},
   "outputs": [],
   "source": [
    "# instantiating a model object\n",
    "lasso_model = Lasso(alpha = 1.0,normalize = True) \n",
    "\n",
    "\n",
    "# fitting to the training data\n",
    "lasso_fit = lasso_model.fit(x_train_OLS, y_train_OLS)\n",
    "\n",
    "\n",
    "# predicting on new data\n",
    "lasso_pred = lasso_fit.predict(x_test_OLS)\n",
    "\n",
    "\n",
    "# scoring the results\n",
    "print('Lasso Training Score :', lasso_model.score(x_train_OLS, y_train_OLS).round(4))\n",
    "print('Lasso Testing Score  :', lasso_model.score(x_test_OLS, y_test_OLS).round(4))\n",
    "\n",
    "\n",
    "# defining variables \n",
    "lasso_train_score = lasso_model.score(x_train_OLS, y_train_OLS).round(4) \n",
    "lasso_test_score  = lasso_model.score(x_test_OLS, y_test_OLS).round(4)   \n",
    "\n",
    "\n",
    "# displaying the gap between training and testing\n",
    "print('Lasso Train-Test Gap :', abs(lasso_train_score - lasso_test_score).round(4))\n",
    "lasso_test_gap = abs(lasso_train_score - lasso_test_score).round(4)\n"
   ]
  },
  {
   "cell_type": "code",
   "execution_count": null,
   "id": "30814a3b",
   "metadata": {},
   "outputs": [],
   "source": [
    "# zipping each feature name to its coefficient\n",
    "lasso_model_values = zip(birthweight_data.columns, lasso_fit.coef_.round(decimals = 2))\n",
    "\n",
    "\n",
    "# setting up a placeholder list to store model features\n",
    "lasso_model_lst = [('intercept', lasso_fit.intercept_.round(decimals = 2))]\n",
    "\n",
    "\n",
    "# loop for printing out each feature-coefficient pair \n",
    "for val in lasso_model_values:\n",
    "    lasso_model_lst.append(val)\n",
    "    \n",
    "for pair in lasso_model_lst:\n",
    "    print(pair)"
   ]
  },
  {
   "cell_type": "markdown",
   "id": "61c4fd5d",
   "metadata": {},
   "source": [
    "### 4.3 Automatic Relevance Determination (ARD)"
   ]
  },
  {
   "cell_type": "code",
   "execution_count": null,
   "id": "c49e54a0",
   "metadata": {},
   "outputs": [],
   "source": [
    "# instantiating a model object\n",
    "import sklearn.linear_model\n",
    "\n",
    "ard_model = sklearn.linear_model.ARDRegression()\n",
    "\n",
    "ard_fit = ard_model.fit(x_train_OLS, y_train_OLS)\n",
    "\n",
    "# predicting on new data\n",
    "ard_pred = ard_fit.predict(x_test_OLS)\n",
    "\n",
    "print('Training Score:', ard_model.score(x_train_OLS, y_train_OLS).round(4))\n",
    "print('Testing Score :',  ard_model.score(x_test_OLS, y_test_OLS).round(4))\n",
    "\n",
    "# saving scoring data \n",
    "ard_train_score = ard_model.score(x_train_OLS, y_train_OLS).round(4)\n",
    "ard_test_score  = ard_model.score(x_test_OLS, y_test_OLS).round(4)\n",
    "\n",
    "# displaying the gap between training and testing\n",
    "print('ARD Train-Test Gap :', abs(ard_train_score - ard_test_score).round(4))\n",
    "ard_test_gap = abs(ard_train_score - ard_test_score).round(4)\n"
   ]
  },
  {
   "cell_type": "markdown",
   "id": "bd76b5f6",
   "metadata": {},
   "source": [
    "### 4.4 K-Nearest Neighbors"
   ]
  },
  {
   "cell_type": "code",
   "execution_count": null,
   "id": "83fbbe19",
   "metadata": {},
   "outputs": [],
   "source": [
    "\n",
    "# instantiating a StandardScaler() object\n",
    "scaler = StandardScaler()\n",
    "\n",
    "\n",
    "# fitting the scaler with birthweight_data\n",
    "scaler.fit(birthweight_data)\n",
    "\n",
    "\n",
    "# transforming data \n",
    "x_scaled = scaler.transform(birthweight_data)\n",
    "\n",
    "# converting scaled data into a DataFrame\n",
    "x_scaled_df = pd.DataFrame(x_scaled)\n",
    "\n",
    "# checking the results\n",
    "x_scaled_df.describe().round(2)\n",
    "\n",
    "# adding labels to the scaled DataFrame\n",
    "x_scaled_df.columns = birthweight_data.columns\n",
    "\n",
    "# splitting test and train\n",
    "x_train, x_test, y_train, y_test = train_test_split(\n",
    "            x_scaled,\n",
    "            birthweight_target,\n",
    "            test_size = 0.25,\n",
    "            random_state = 219)"
   ]
  },
  {
   "cell_type": "code",
   "execution_count": null,
   "id": "cf1149b7",
   "metadata": {},
   "outputs": [],
   "source": [
    "# instantiating a KNN model object\n",
    "knn = KNeighborsRegressor(n_neighbors = 11)\n",
    "\n",
    "# fitting to the training data\n",
    "knn_fit = knn.fit(x_train, y_train)\n",
    "\n",
    "# predicting on new data\n",
    "knn_pred = knn_fit.predict(x_test)\n",
    "\n",
    "# scoring the results\n",
    "print('KNN Training Score:', knn.score(x_train, y_train).round(4))\n",
    "print('KNN Testing Score :',  knn.score(x_test, y_test).round(4))\n",
    "\n",
    "# defining variables\n",
    "knn_train_score = knn.score(x_train, y_train).round(4)\n",
    "knn_test_score  = knn.score(x_test, y_test).round(4)\n",
    "\n",
    "# displaying gap between training and testing\n",
    "print('KNN Train-Test Gap:', abs(knn_train_score - knn_test_score).round(4))\n",
    "knn_test_gap = abs(knn_train_score - knn_test_score).round(4)"
   ]
  },
  {
   "cell_type": "code",
   "execution_count": null,
   "id": "4da34cb5",
   "metadata": {},
   "outputs": [],
   "source": [
    "# creating lists for training set accuracy and test set accuracy\n",
    "training_accuracy = []\n",
    "test_accuracy     = []\n",
    "\n",
    "# building a visualization of 1 to 50 neighbors\n",
    "neighbors_settings = range(1, 51)\n",
    "\n",
    "\n",
    "for n_neighbors in neighbors_settings:\n",
    "    # Building the model\n",
    "    clf = KNeighborsRegressor(n_neighbors = n_neighbors)\n",
    "    clf.fit(x_train, y_train)\n",
    "    \n",
    "    # Recording the training set accuracy\n",
    "    training_accuracy.append(clf.score(x_train, y_train))\n",
    "    \n",
    "    # Recording the generalization accuracy\n",
    "    test_accuracy.append(clf.score(x_test, y_test))\n",
    "\n",
    "\n",
    "# plotting the visualization\n",
    "fig, ax = plt.subplots(figsize=(12,8))\n",
    "plt.plot(neighbors_settings, training_accuracy, label = \"training accuracy\")\n",
    "plt.plot(neighbors_settings, test_accuracy, label = \"test accuracy\")\n",
    "plt.ylabel(\"Accuracy\")\n",
    "plt.xlabel(\"n_neighbors\")\n",
    "plt.legend()\n",
    "plt.show()"
   ]
  },
  {
   "cell_type": "markdown",
   "id": "8c7bc229",
   "metadata": {},
   "source": [
    "### 5. Final model "
   ]
  },
  {
   "cell_type": "code",
   "execution_count": null,
   "id": "dfb3b7f3",
   "metadata": {},
   "outputs": [],
   "source": [
    "# comparing results of each model\n",
    "\n",
    "print(f\"\"\"\n",
    "Model             Train Score      Test Score      Train-Test Gap\n",
    "-----             -----------      ----------      ----------\n",
    "OLS                 {lr_train_score}           {lr_test_score}          {lr_test_gap}\n",
    "Lasso[Final model]  {lasso_train_score}           {lasso_test_score}          {lasso_test_gap}\n",
    "ARD                 {ard_train_score}           {ard_test_score}          {ard_test_gap}\n",
    "KNN                 {knn_train_score}           {knn_test_score}          {knn_test_gap}\n",
    "\"\"\")\n"
   ]
  }
 ],
 "metadata": {
  "kernelspec": {
   "display_name": "Python 3 (ipykernel)",
   "language": "python",
   "name": "python3"
  },
  "language_info": {
   "codemirror_mode": {
    "name": "ipython",
    "version": 3
   },
   "file_extension": ".py",
   "mimetype": "text/x-python",
   "name": "python",
   "nbconvert_exporter": "python",
   "pygments_lexer": "ipython3",
   "version": "3.8.8"
  },
  "toc": {
   "base_numbering": "",
   "nav_menu": {},
   "number_sections": false,
   "sideBar": true,
   "skip_h1_title": false,
   "title_cell": "Table of Contents",
   "title_sidebar": "Contents",
   "toc_cell": false,
   "toc_position": {
    "height": "calc(100% - 180px)",
    "left": "10px",
    "top": "150px",
    "width": "272px"
   },
   "toc_section_display": true,
   "toc_window_display": false
  },
  "varInspector": {
   "cols": {
    "lenName": 16,
    "lenType": 16,
    "lenVar": 40
   },
   "kernels_config": {
    "python": {
     "delete_cmd_postfix": "",
     "delete_cmd_prefix": "del ",
     "library": "var_list.py",
     "varRefreshCmd": "print(var_dic_list())"
    },
    "r": {
     "delete_cmd_postfix": ") ",
     "delete_cmd_prefix": "rm(",
     "library": "var_list.r",
     "varRefreshCmd": "cat(var_dic_list()) "
    }
   },
   "types_to_exclude": [
    "module",
    "function",
    "builtin_function_or_method",
    "instance",
    "_Feature"
   ],
   "window_display": false
  }
 },
 "nbformat": 4,
 "nbformat_minor": 5
}
